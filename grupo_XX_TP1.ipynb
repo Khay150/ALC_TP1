{
 "cells": [
  {
   "attachments": {},
   "cell_type": "markdown",
   "id": "5c0cbb93-2880-4750-975d-11cce9f6b12c",
   "metadata": {},
   "source": [
    "# Trabajo Práctico 1 - Matrices de Insumo Producto\n",
    "\n",
    "## Enunciado"
   ]
  },
  {
   "cell_type": "markdown",
   "id": "11f7face-a325-4e30-b13e-0c3d84280c5e",
   "metadata": {},
   "source": [
    "### Consigna 1 - "
   ]
  },
  {
   "cell_type": "markdown",
   "id": "e69c407d-9132-421c-8d02-508da3bb3ae6",
   "metadata": {},
   "source": [
    "a) $(I − A)$ es inversible :\n",
    "\n",
    "Si la matriz (I-A) es inversible, el sistema $(I-A)^{-1}$ tiene una única solución. Esto, en términos de lo que el sistema representa, significa que existe una única producción $\\textbf{P}$ que satisface tanto la demanda interna como la externa.\n",
    "\n",
    "b) $(I − A)$  es inversible y $\\textbf{d}$ = 0 :\n",
    "\n",
    "Que $\\textbf{d}$ sea 0 significa que estamos hablando de una economía cerrada. Por lo tanto, toda la producción esta de destinada a satisfacer la demanda interna. Además, la matriz $\\\\$ $(I-A)$ es inversible, lo que implica que podemos encontrar la producción de equilibrio para afrontar la demanda interna.\n",
    "\n",
    "Teoria: No se produce nada para que no hay demanda externa y por ende la produccion es igual a 0\n",
    "c) $(I − A)$ no es inversible :\n",
    "\n",
    "Analizando unicamente el sistema 2, en este caso se deduce que no existe una solucion $\\textbf{P}$ que satisface tanto la demanda interna como la externa.\n",
    "\n",
    "Sin embargo, si vemos el sistema 1, podemos llegar a la ecuacion:\n",
    "\n",
    "$$\n",
    "(I - A) \\cdot p = d \\quad \\text{(1)}\n",
    "$$\n",
    "\n",
    "Luego, como suponemos que $(I − A)$ no es inversible obtenemos 2 posibles alternativas: que tenga infinitas soluciones o que no tenga solucion. Por lo que puede llegar a pasar que hayan infinitas producciones que satisfacen tanto la demanda externa como interna.\n",
    "\n",
    "d) $(I − A)$ no es inversible y $\\textbf{d}$ = 0 :"
   ]
  },
  {
   "cell_type": "markdown",
   "id": "6ea60699-4c07-40fb-8f71-ec4cacf32708",
   "metadata": {},
   "source": [
    "### Consigna 3 -  \n",
    "Resolver el sistema 2 utilizando inversaLU para los siguientes valores de $\\textbf{A}$ y $\\textbf{d}$:\n",
    "\n",
    "$$\n",
    "\\mathbf{A} = \n",
    "\\begin{pmatrix}\n",
    "0.3 & 0.0 & 0.1 \\\\\n",
    "0.05 & 1.0 & 0.2 \\\\\n",
    "0.1 & 0.15 & 0.1\n",
    "\\end{pmatrix},\n",
    "\\quad\n",
    "\\mathbf{d} =\n",
    "\\begin{pmatrix}\n",
    "100 \\\\\n",
    "100 \\\\\n",
    "300\n",
    "\\end{pmatrix}\n",
    "$$\n",
    "\n",
    "\n",
    "1) ¿Hay una justificación económica de los valores encontrados para $\\textbf{p}$?\n",
    "2) ¿Cual es la característica de la matriz que lleva a esta solución?"
   ]
  },
  {
   "cell_type": "code",
   "execution_count": 3,
   "id": "260b913f-d6d3-47b8-9431-7a64d6d037a5",
   "metadata": {},
   "outputs": [],
   "source": [
    "from funciones import inversaLU, calcularLU\n",
    "import numpy as np\n",
    "\n",
    "A = np.array([[0.3, 0.0, 0.1], [0.05, 1.0, 0.2], [0.1, 0.15, 0.1]])\n",
    "\n",
    "d = [[100], [100], [300]]\n",
    "\n",
    "I = np.eye(3)\n",
    "L, U = calcularLU(I-A)"
   ]
  },
  {
   "cell_type": "code",
   "execution_count": null,
   "id": "9d40277f",
   "metadata": {},
   "outputs": [],
   "source": []
  }
 ],
 "metadata": {
  "kernelspec": {
   "display_name": "Python 3 (ipykernel)",
   "language": "python",
   "name": "python3"
  },
  "language_info": {
   "codemirror_mode": {
    "name": "ipython",
    "version": 3
   },
   "file_extension": ".py",
   "mimetype": "text/x-python",
   "name": "python",
   "nbconvert_exporter": "python",
   "pygments_lexer": "ipython3",
   "version": "3.10.1"
  }
 },
 "nbformat": 4,
 "nbformat_minor": 5
}
