{
 "cells": [
  {
   "cell_type": "markdown",
   "id": "770b5842",
   "metadata": {},
   "source": [
    "# Trabajo Práctico 1 - Matrices de Insumo Producto"
   ]
  },
  {
   "cell_type": "markdown",
   "id": "f9720d03",
   "metadata": {},
   "source": [
    "### Consigna 1 - "
   ]
  },
  {
   "cell_type": "markdown",
   "id": "e69c407d-9132-421c-8d02-508da3bb3ae6",
   "metadata": {},
   "source": [
    "Analizar qué sucede con la solución del sistema 2 en cada uno de los siguientes casos:\n",
    "\n",
    "Sistema 2:\n",
    "\n",
    "$$p=(I − A)^{-1}d = Ld$$\n",
    "\n",
    "a) $(I − A)$ es inversible :\n",
    "\n",
    "$\\quad$ Si la matriz $(I − A)$ es inversible, el sistema $(I-A)^{-1}$ tiene una única solución. Esto, en términos de lo que el sistema representa, significa que existe una única producción $\\textbf{p}$ que satisface tanto la demanda interna como la externa.\n",
    "\n",
    "b) $(I − A)$  es inversible y $\\textbf{d}$ = 0 :\n",
    "\n",
    "$\\quad$ Que $\\textbf{d}$ sea 0 significa que estamos hablando de una economía cerrada. Por lo tanto, toda la producción esta de destinada a satisfacer la demanda interna. Además, la matriz $\\\\$ $(I-A)$ es inversible, lo que implica que podemos encontrar la producción de equilibrio para afrontar la demanda interna. $\\\\$ $\\quad$ Otro enfoque, que podriamos darle es que el vector $\\textbf{d}$ que representa la demanda externa, la demanda no destinada a la producción de otros bienes, sea 0. Es decir que dentro del país no se precisa ninguno de los bienes. Por lo tanto, tiene sentido que el vector de producción sea 0, ya que no se produce lo que no se demanda.\n",
    "\n",
    "\n",
    "c) $(I − A)$ no es inversible :\n",
    "\n",
    " $\\quad$ Analizando unicamente el sistema 2, en este caso se deduce que no existe una solucion $\\textbf{p}$ que satisface tanto la demanda interna como la externa.\n",
    "\n",
    " $\\quad$ Sin embargo, si vemos el sistema 1, podemos llegar a la ecuacion:\n",
    "\n",
    "$$\n",
    "(I - A) \\cdot p = d \\quad \\text{(1)}\n",
    "$$\n",
    "\n",
    " $\\quad$ Luego, como suponemos que $(I − A)$ no es inversible obtenemos 2 posibles alternativas: que tenga infinitas soluciones o que no tenga solucion. Por lo que puede llegar a pasar que hayan infinitas producciones que satisfacen tanto la demanda externa como interna o puede no haber ninguna.\n",
    "\n",
    "\n",
    "d) $(I − A)$ no es inversible y $\\textbf{d}$ = 0 :\n",
    "\n",
    "$\\quad$ Este caso es similar a dos de los anteriores. Por un lado, el vector $\\textbf{d}$ es 0, que como ya mencionamos representa la demanda que no busca producir más bienes, y esto indicaba una falta demanda de producto impedia la producción de los mismos. Por otro lado, la no inversibilidad de la matriz de Leontief nos dice que aunque los productos fueran demandados no existiria una única producción de equilibrio, pudiendo existir infinitas combinaciónes que permitieran alcanzarlo. La opción de no existir queda descartada en este caso ya que no producír nada ya es una solución para esta economía\n",
    "    "
   ]
  },
  {
   "cell_type": "markdown",
   "id": "6ea60699-4c07-40fb-8f71-ec4cacf32708",
   "metadata": {},
   "source": [
    "### Consigna 3 -  \n",
    "Resolver el sistema 2 utilizando inversaLU para los siguientes valores de $\\textbf{A}$ y $\\textbf{d}$:\n",
    "\n",
    "$$\n",
    "\\mathbf{A} = \n",
    "\\begin{pmatrix}\n",
    "0.3 & 0.0 & 0.1 \\\\\n",
    "0.05 & 1.0 & 0.2 \\\\\n",
    "0.1 & 0.15 & 0.1\n",
    "\\end{pmatrix},\n",
    "\\quad\n",
    "\\mathbf{d} =\n",
    "\\begin{pmatrix}\n",
    "100 \\\\\n",
    "100 \\\\\n",
    "300\n",
    "\\end{pmatrix}\n",
    "$$\n",
    "\n",
    "\n",
    "1) ¿Hay una justificación económica de los valores encontrados para $\\textbf{p}$?\n",
    "2) ¿Cual es la característica de la matriz que lleva a esta solución?"
   ]
  },
  {
   "cell_type": "code",
   "execution_count": 23,
   "id": "260b913f-d6d3-47b8-9431-7a64d6d037a5",
   "metadata": {},
   "outputs": [],
   "source": [
    "from funciones import inversaLU, calcularLU\n",
    "import numpy as np\n",
    "\n",
    "A = np.array([[0.3, 0.0, 0.1], [0.05, 1.0, 0.2], [0.1, 0.15, 0.1]])\n",
    "\n",
    "d = [[100], [100], [300]]\n",
    "\n",
    "I = np.eye(3)\n",
    "\n",
    "L = inversaLU(I-A)\n",
    "\n",
    "p = L@d\n",
    "\n",
    "print(p)"
   ]
  },
  {
   "cell_type": "markdown",
   "id": "9d40277f",
   "metadata": {},
   "source": [
    "1)  $\\quad$ Se ve claramente que los sectores que dependen en alguna medida del producto 2 presentan valores extraños. Esto se debe que el producto 2 se requiere en 1.15 unidades entre los sectores 2 y 3. Mientras que solo se puede generar en una unidad. $\\\\$\n",
    "\n",
    "$\\quad$ Por un lado, la producción de producto 2 nos da un valor de alrededor de 5000 en modulo porque es una demanda que no esta siendo satisfecha. Por otro lado, volvamos a que la demanda total de producto 2 es de 1.15 unidades sumando la demanda de los sectores 2 y 3, pero recordemos que la producción de producto 2 necesita una unidad de si mismo. Entonces si restamos la producción de producto 2 y su demanda obtenemos un resultado con signo negativo. Esto es indicador de que nunca vamos a poder producir lo necesario para satisfacer la demanda total para este producto. $\\\\$ $\\quad$ En resumen, las desviaciones observadas en los sectores 2 y 3 son producto de demandar en cantidades que no pueden ser satisfechas al producto 2. Esto derivó en una economía inviable. Los altos valores en modulo indican la necesidad producir más para intentar satisfacer su demanda de producto 2 y el simbolo menos nos indica que a pesar de producir lo máximo nunca se llego a satisfacer esa demanda.\n",
    "\n",
    "2)  Para calcular el determinante de una matriz 3×3, se puede usar la siguiente fórmula general: $\\\\$ Para una matriz de la forma:\n",
    "    $$\n",
    "    \\mathbf{A} = \n",
    "    \\begin{pmatrix}\n",
    "    a & b & c \\\\\n",
    "    d & e & f \\\\\n",
    "    g & h & i\n",
    "    \\end{pmatrix}\n",
    "    $$\n",
    "\n",
    "    El determinante se calcula como: det=a(ei−fh)−b(di−fg)+c(dh−eg)\n",
    "\n",
    "    En este caso. la matriz es:\n",
    "    $$\n",
    "    \\mathbf{A} = \n",
    "    \\begin{pmatrix}\n",
    "    1.37931034 & -0.68965517 & 0 \\\\\n",
    "    -2.98850575 & -28.50574713 & -6.66666667 \\\\\n",
    "    -0.34482759 & -4.82758621 & 0\n",
    "    \\end{pmatrix}\n",
    "    $$\n",
    "\n",
    "    Sustituyendo la fórmula: $\\\\$\n",
    "    det= 1.37931034⋅(−32.1848725)−((−0.68965517)⋅(−2.2955691)) = −46.0115\n"
   ]
  },
  {
   "cell_type": "markdown",
   "id": "492cbcfd",
   "metadata": {},
   "source": [
    "### Consigna 4 - \n",
    "\n",
    "Analizar analíticamente qué sucede con la producción total cuando a partir de una demanda externa d, la demanda externa para el producto 3 cambia en un ∆d. La demanda externa se convierte en\n",
    "$$d'=d+\\begin{pmatrix}\n",
    "    0 \\\\\n",
    "    0 \\\\\n",
    "    1\n",
    "    \\end{pmatrix}$$\n",
    "\n",
    "Obtener la expresión del vector ∆p correspondiente a este ejemplo."
   ]
  },
  {
   "cell_type": "markdown",
   "id": "e0708210",
   "metadata": {},
   "source": [
    "Conocemos la economía con $\\textbf{d}$, que esta modelada por:\n",
    "$$\\mathbf{p}= \\mathbf{Ld}$$\n",
    "Ahora calculemos la economía con $\\textbf{d'}$\n",
    "\n",
    "$$\\mathbf{p'} = \\mathbf{Ld'} = \\mathbf{L(d+∆d)}$$\n",
    "\n",
    "$$\\mathbf{p + ∆p} = \\mathbf{Ld} + \\mathbf{L∆d}$$\n",
    "\n",
    "Sabiendo que $\\textbf{p = Ld}$ cancelamos y obtenemos que:\n",
    "\n",
    "$$\\mathbf{∆p} = \\mathbf{L∆d} \\\\$$\n",
    "Reemplazando :\n",
    "$$\n",
    "\\mathbf{∆d} = \\begin{pmatrix}\n",
    "    0 \\\\\n",
    "    0 \\\\\n",
    "    1\n",
    "    \\end{pmatrix}\n",
    "$$\n",
    "\n",
    "y obtenemos\n",
    "\n",
    "$$\\mathbf{∆p} = \\mathbf{L} \\begin{pmatrix}\n",
    "    0 \\\\\n",
    "    0 \\\\\n",
    "    1\n",
    "    \\end{pmatrix}\\\\$$\n",
    "\n",
    "Lo cual implica un aumento en la demanda del producto 3.\n"
   ]
  },
  {
   "cell_type": "markdown",
   "id": "114d5885",
   "metadata": {},
   "source": [
    "### Consigna 5 - \n",
    "\n",
    "Encontrar los coeficientes técnicos A y la matriz de Leontief para la economía dada."
   ]
  },
  {
   "cell_type": "markdown",
   "id": "dc91abb2",
   "metadata": {},
   "source": [
    "En primer lugar, escribimos la matriz Z \n",
    "\n",
    "$$\n",
    "    \\mathbf{Z} = \n",
    "    \\begin{pmatrix}\n",
    "    350 & 0 & 0 \\\\\n",
    "    50 & 250 & 150 \\\\\n",
    "    200 & 150 & 550\n",
    "    \\end{pmatrix}\n",
    "$$\n",
    "\n",
    "Luego, podemos escribir la matriz P como \n",
    "\n",
    "$$\n",
    "    \\mathbf{P} = \n",
    "    \\begin{pmatrix}\n",
    "    1000 & 0 & 0 \\\\\n",
    "    0 & 500 & 0 \\\\\n",
    "    0 & 0 & 1000\n",
    "    \\end{pmatrix}\n",
    "$$\n",
    "\n",
    "Entonces, por lo visto, $$\\mathbf{A} = ZP^{-1}$$\n",
    "\n",
    "Calculamos A:\n",
    "\n",
    "\n"
   ]
  },
  {
   "cell_type": "code",
   "execution_count": 24,
   "id": "e32e24b7",
   "metadata": {},
   "outputs": [],
   "source": [
    "Z=np.array([[250,0,0],[50,250,150],[200,150,550]])\n",
    "P=np.array([[1000,0,0],[0,500,0],[0,0,1000]])\n",
    "A=Z@inversaLU(P)\n",
    "\n",
    "print(A)"
   ]
  },
  {
   "cell_type": "code",
   "execution_count": 25,
   "id": "d7bc51cb",
   "metadata": {},
   "outputs": [],
   "source": [
    "I = np.eye(3)\n",
    "\n",
    "L = inversaLU(I-A)\n",
    "\n",
    "print(L)"
   ]
  },
  {
   "cell_type": "markdown",
   "id": "d84bf682",
   "metadata": {},
   "source": [
    "Entonces, la matriz de Leontief queda de la siguiente manera:\n",
    "$$\n",
    "    \\mathbf{L} = (I-A)^{-1} = \n",
    "    \\begin{pmatrix}\n",
    "    1.53846154 & 0 & 0 \\\\\n",
    "    0.8974359 & 2.5 & 1.66666667 \\\\\n",
    "    0.98290598 & 0.83333333 & 2.77777778\n",
    "    \\end{pmatrix}\n",
    "$$\n"
   ]
  },
  {
   "cell_type": "markdown",
   "id": "dc56d47e",
   "metadata": {},
   "source": [
    "### Consigna 6 -\n",
    "A partir de la fórmula 4, deducir cómo se calcula la variación de la producción en la región $\\textit{r} $ para cubrir una variación de la demanda considerando las relaciones interregionales. $\\\\$ Fijando por simplicidad $\\mathbf{∆d^{s}}$ = 0, deducir la siguiente fórmula:\n",
    "$$\n",
    "\\mathbf{∆p^{r}} = (I - \\mathbf{A^{rr}} - \\mathbf{A^{rs}}(I - \\mathbf{A^{ss}})^{-1}\\mathbf{A^{sr}})^{-1}\\mathbf{∆d^{r}}\n",
    "$$"
   ]
  },
  {
   "cell_type": "markdown",
   "id": "dab5fe5e",
   "metadata": {},
   "source": [
    "En primer lugar, queremos obtener los valores originales de $\\mathbf{p^{r}}$ y $\\mathbf{p^{s}}$ en funcion de $\\mathbf{d^{r}}$ y $\\mathbf{p^{s}}$. $\\\\$ \n",
    "Luego, analizamos que ocurre con $\\mathbf{p^{r'}}$ = $\\mathbf{p^{r}}$ + $\\mathbf{∆p^{r}}$ para $\\mathbf{d^{r'}}$ = $\\mathbf{d^{r}}$ + $\\mathbf{∆d^{r}}$\n",
    "\n",
    "\n",
    "$$\n",
    "    \\begin{pmatrix}  \n",
    "    \\begin{pmatrix}\n",
    "    I & 0 \\\\\n",
    "    0 & I \\\\\n",
    "    \\end{pmatrix} - \n",
    "    \\begin{pmatrix}\n",
    "    \\mathbf{A^{rr}} & \\mathbf{A^{rs}} \\\\\n",
    "    \\mathbf{A^{sr}} & \\mathbf{A^{ss}} \\\\\n",
    "    \\end{pmatrix} \n",
    "    \\end{pmatrix} \\cdot\n",
    "    \\begin{pmatrix}\n",
    "    \\mathbf{p^{r}}\\\\\n",
    "    \\mathbf{p^{s}} \\\\\n",
    "    \\end{pmatrix} \n",
    "    = \n",
    "    \\begin{pmatrix}\n",
    "    \\mathbf{d^{r}}\\\\\n",
    "    \\mathbf{d^{s}} \\\\\n",
    "    \\end{pmatrix} \n",
    "$$\n",
    "\n",
    "Luego,\n",
    "- ($\\textbf{I}$- $\\mathbf{A^{rr}}$)$\\mathbf{p^{r}}$ - $\\mathbf{A^{rs}}$ $\\mathbf{p^{s}}$ = $\\mathbf{d^{r}}$\n",
    "- (-$\\mathbf{A^{sr}}$ $\\mathbf{p^{r}}$) + ($\\textbf{I}$-$\\mathbf{A^{ss}}$)$\\mathbf{p^{s}}$ = $\\mathbf{d^{s}}$\n",
    "\n",
    "$\\implies$ $\\mathbf{p^{s}}$ = $(\\textbf{I} -\\mathbf{A^{ss}})^{-1}$($\\mathbf{d^{s}}$ + $\\mathbf{A^{sr}}$ $\\mathbf{p^{r}}$)  $\\\\$ \n",
    "$\\implies$ $\\mathbf{d^{r}}$ = ($\\textbf{I}$- $\\mathbf{A^{rr}}$)$\\mathbf{p^{r}}$  $\\mathbf{-A^{rs}}$ $(\\textbf{I} -\\mathbf{A^{ss}})^{-1}$($\\mathbf{d^{s}}$ + $\\mathbf{A^{sr}}$ $\\mathbf{p^{r}}$) $\\quad$ $\\textbf{(1)}$\n",
    "\n",
    "Luego con $\\textbf{∆d}$ $\\\\$ \n",
    "($\\textbf{I}$- $\\mathbf{A^{rr}}$)($\\mathbf{p^{r}}$ + $\\mathbf{∆p^{r}}$) - $\\mathbf{A^{rs}}$ $\\mathbf{p^{s}}$ = $\\mathbf{d^{r}}$ + $\\mathbf{∆d^{r}}$ $\\\\$ \n",
    "-$\\mathbf{A^{sr}}$($\\mathbf{p^{r}}$ + $\\mathbf{∆p^{r}}$) + ($\\textbf{I}$-$\\mathbf{A^{ss}}$)$\\mathbf{p^{s}}$ = $\\mathbf{d^{s}}$ $\\implies$\n",
    "$\\mathbf{p^{s}}$  = $(\\textbf{I} -\\mathbf{A^{ss}})^{-1}$($\\mathbf{d^{s}}$ + $\\mathbf{A^{sr}}$ $\\mathbf{p^{r}}$ + $\\mathbf{A^{sr}}$ $\\mathbf{∆p^{r}}$)\n",
    "\n",
    "($\\textbf{I}$- $\\mathbf{A^{rr}}$)($\\mathbf{p^{r}}$ + $\\mathbf{∆p^{r}}$)$\\mathbf{-A^{rs}}$ $(\\textbf{I} -\\mathbf{A^{ss}})^{-1}$($\\mathbf{d^{s}}$ + $\\mathbf{A^{sr}}$ $\\mathbf{p^{r}}$ + $\\mathbf{A^{sr}}$ $\\mathbf{∆p^{r}}$) = $\\mathbf{d^{r}}$ + $\\mathbf{∆d^{r}}$ $\\\\$ \n",
    "\n",
    "($\\textbf{I}$- $\\mathbf{A^{rr}}$)$\\mathbf{p^{r}}$ + ($\\textbf{I}$- $\\mathbf{A^{rr}}$)$\\mathbf{∆p^{r}}$ $\\mathbf{-A^{rs}}$ $(\\textbf{I} -\\mathbf{A^{ss}})^{-1}$ $\\mathbf{d^{s}}$ $\\mathbf{-A^{rs}}$ $(\\textbf{I} -\\mathbf{A^{ss}})^{-1}$ $\\mathbf{A^{sr}}$ $\\mathbf{p^{r}}$ $\\mathbf{-A^{rs}}$ $(\\textbf{I} -\\mathbf{A^{ss}})^{-1}$ $\\mathbf{A^{sr}}$ $\\mathbf{∆p^{r}}$ = $\\mathbf{d^{r}}$ + $\\mathbf{∆d^{r}}$ $\\\\$ \n",
    "\n",
    "Por $\\textbf{(1)}$, $\\mathbf{d^{r}}$ = ($\\textbf{I}$- $\\mathbf{A^{rr}}$)$\\mathbf{p^{r}}$ $\\mathbf{-A^{rs}}$ $(\\textbf{I} -\\mathbf{A^{ss}})^{-1}$ $\\mathbf{d^{s}}$ $\\mathbf{-A^{rs}}$ $(\\textbf{I} -\\mathbf{A^{ss}})^{-1}$ $\\mathbf{A^{sr}}$ $\\mathbf{p^{r}}$\n",
    "\n",
    "$\\implies$ $\\mathbf{∆d^{r}}$ = ($\\textbf{I}$- $\\mathbf{A^{rr}}$)$\\mathbf{∆p^{r}}$ $\\mathbf{-A^{rs}}$ $(\\textbf{I} -\\mathbf{A^{ss}})^{-1}$ $\\mathbf{A^{sr}}$ $\\mathbf{∆p^{r}}$ $\\\\$ \n",
    "$\\implies$ $\\mathbf{∆d^{r}}$ =  ($\\textbf{I}$- $\\mathbf{A^{rr}}$ $\\mathbf{-A^{rs}}$ $(\\textbf{I} -\\mathbf{A^{ss}})^{-1}$ $\\mathbf{A^{sr}}$)$\\mathbf{∆p^{r}}$ $\\\\$ \n",
    "$\\implies$ $\\mathbf{∆p^{r}}$ = $(\\textbf{I}- \\mathbf{A^{rr}} \\mathbf{-A^{rs}} (\\textbf{I} -\\mathbf{A^{ss}})^{-1} \\mathbf{A^{sr}})^{-1}$ $\\mathbf{∆d^{r}}$"
   ]
  },
  {
   "cell_type": "markdown",
   "id": "e50fc125",
   "metadata": {},
   "source": [
    "### Consigna 7 -\n",
    "\n",
    "- Seleccionar los dos países $\\textit{P1}$ (Venezuela) y $\\textit{P2}$ (Costa Rica) que les fue asignado al grupo y generar la matriz de\n",
    "Insumo-Producto de estas dos regiones."
   ]
  },
  {
   "cell_type": "markdown",
   "id": "f317d636",
   "metadata": {},
   "source": [
    "Importamos las librerias\n"
   ]
  },
  {
   "cell_type": "code",
   "execution_count": 1,
   "id": "77afdc7f",
   "metadata": {},
   "outputs": [],
   "source": [
    "import pandas as pd\n",
    "from inline_sql import sql, sql_val\n",
    "import numpy as np\n",
    "from funciones import inversaLU\n",
    "import matplotlib.pyplot as plt"
   ]
  },
  {
   "cell_type": "markdown",
   "id": "48b352f3",
   "metadata": {},
   "source": [
    "Leemos el excel y separamos nuestros paises"
   ]
  },
  {
   "cell_type": "code",
   "execution_count": 2,
   "id": "e319d505",
   "metadata": {},
   "outputs": [],
   "source": [
    "datos_basicos = pd.read_excel(\"matrizlatina2011_compressed_0.xlsx\", sheet_name= \"LAC_IOT_2011\")\n",
    "\n",
    "\n",
    "#Separamos los datos de las filas de nuestros 2 paises\n",
    "datos_impotantes_rel= sql^ \"\"\"\n",
    "                        SELECT *\n",
    "                        FROM datos_basicos\n",
    "                        WHERE Country_iso3 LIKE 'CRI%' or Country_iso3 LIKE 'VEN%' \n",
    "                    \"\"\" \n",
    "                    \n",
    "# Contruimos una tabla auxiliar con todos los datos\n",
    "#Creamos un dataframe con los paises y los sectores\n",
    "datos_relacion_iso = pd.concat([datos_impotantes_rel['Country_iso3'], datos_impotantes_rel['Nosector']], axis = 1)              \n",
    "#filtramos los datos de las columnas de relacion con Venezuela\n",
    "datos_relacion_filtrados = pd.concat([datos_relacion_iso, datos_impotantes_rel.filter(regex=\"^VEN\").copy()], axis = 1)\n",
    "#filtramos los datos de las columnas de relacion con Costa Rica\n",
    "datos_relacion= pd.concat([datos_relacion_filtrados, datos_impotantes_rel.filter(regex=\"^CRI\").copy()], axis = 1)\n",
    "#agregamos los datos del output\n",
    "datos_relacion = pd.concat([datos_relacion, datos_impotantes_rel['Output']], axis = 1)"
   ]
  },
  {
   "cell_type": "markdown",
   "id": "c6e1f112",
   "metadata": {},
   "source": [
    "Solucion a los $output=0$"
   ]
  },
  {
   "cell_type": "code",
   "execution_count": 3,
   "id": "db36bcf7",
   "metadata": {},
   "outputs": [],
   "source": [
    "#las columnas que involucran a ambos paises\n",
    "columnas = pd.concat([datos_relacion.filter(regex=\"^CRI\"), datos_relacion.filter(regex=\"^VEN\")], axis = 1).columns\n",
    "# Procesamos los datos un poco porque nos encontramos con la dificultad de que los output valian 0 en esas columnas.\n",
    "# Pero los valores en dichas filas no eran exclusivamente 0. Entonces los igualamos a 0, ya que eran del orden de 10^(-5)\n",
    "\n",
    "datos_relacion.loc[(datos_relacion['Country_iso3'] == 'VEN') & (datos_relacion['Nosector'] == 's28'), columnas] = 0\n",
    "\n",
    "datos_relacion.loc[(datos_relacion['Country_iso3'] == 'VEN') & (datos_relacion['Nosector'] == 's31'), columnas] = 0\n",
    "\n",
    "datos_relacion.loc[(datos_relacion['Country_iso3'] == 'CRI') & (datos_relacion['Nosector'] == 's31'), columnas] = 0\n",
    "\n",
    "datos_relacion.loc[(datos_relacion['Country_iso3'] == 'CRI') & (datos_relacion['Nosector'] == 's03'), columnas] = 0\n"
   ]
  },
  {
   "cell_type": "markdown",
   "id": "15b3ddfa",
   "metadata": {},
   "source": [
    "Separamos los datos en 4 dataframes"
   ]
  },
  {
   "cell_type": "code",
   "execution_count": 4,
   "id": "26f15ad2",
   "metadata": {},
   "outputs": [],
   "source": [
    "# Construimos un df con Todos los valores de todos los sectores de ambos paises\n",
    "numeros_relacion = pd.concat([datos_relacion.filter(regex=\"^CRI\"),  datos_relacion.filter(regex=\"^VEN\")], axis = 1)\n",
    "#Separamos las filas solo de  Costa Rica\n",
    "numeros_CRI = sql^ \"\"\"\n",
    "                        SELECT *\n",
    "                        FROM datos_relacion\n",
    "                        WHERE Country_iso3 LIKE 'CRI%'\n",
    "                    \"\"\" \n",
    "#Datos de Costa Rica vs Costa Rica\n",
    "numeros_internos_CRI = numeros_CRI.filter(regex=\"^CRI\")\n",
    "#Datos de Costa Rica vs Venezuela\n",
    "numeros_externos_CRI = numeros_CRI.filter(regex=\"^VEN\")\n",
    "#Analogamente con los de Venezuela\n",
    "numeros_VEN = sql^ \"\"\"\n",
    "                        SELECT *\n",
    "                        FROM datos_relacion\n",
    "                        WHERE Country_iso3 LIKE 'VEN%'\n",
    "                    \"\"\" \n",
    "\n",
    "numeros_internos_VEN = numeros_VEN.filter(regex=\"^VEN\")\n",
    "\n",
    "numeros_externos_VEN = numeros_VEN.filter(regex=\"^CRI\")"
   ]
  },
  {
   "cell_type": "markdown",
   "id": "cc81915c",
   "metadata": {},
   "source": [
    "Pasamos de DataFrame a np.array"
   ]
  },
  {
   "cell_type": "code",
   "execution_count": 5,
   "id": "cda0854e",
   "metadata": {},
   "outputs": [],
   "source": [
    "Z_CRICRI = numeros_internos_CRI.to_numpy()\n",
    "\n",
    "Z_VENVEN = numeros_internos_VEN.to_numpy()\n",
    "\n",
    "\n",
    "Z_CRIVEN = numeros_externos_CRI.to_numpy()\n",
    "\n",
    "Z_VENCRI = numeros_externos_VEN.to_numpy()\n",
    "\n",
    "\n",
    "matirz_Z_grande = numeros_relacion.to_numpy()"
   ]
  },
  {
   "cell_type": "markdown",
   "id": "b85b02d6",
   "metadata": {},
   "source": [
    "- Calcular los coeficientes técnicos para cada bloque en sus submatrices intra-regionales\n",
    "e inter-regionales de la A total"
   ]
  },
  {
   "cell_type": "markdown",
   "id": "e8b21e69",
   "metadata": {},
   "source": [
    "Conseguimos las Matrices P"
   ]
  },
  {
   "cell_type": "code",
   "execution_count": 18,
   "id": "62352597",
   "metadata": {},
   "outputs": [],
   "source": [
    "P_VEN=np.zeros([40,40])\n",
    "#Tomamos las columnas Output\n",
    "Output_VEN = sql^ \"\"\"\n",
    "                        SELECT Output\n",
    "                        FROM datos_relacion\n",
    "                        WHERE Country_iso3 LIKE 'VEN%'\n",
    "                    \"\"\"\n",
    "                    \n",
    "Output_VEN = Output_VEN.to_numpy()\n",
    "#Construimos P para Venezuela\n",
    "for fila in range (P_VEN.shape[0]):\n",
    "    if Output_VEN[fila]==0:\n",
    "        P_VEN[fila][fila]=1\n",
    "    else:\n",
    "        P_VEN[fila][fila]= Output_VEN[fila][0]\n",
    "\n",
    "#De la misma manera para Costa Rica\n",
    "P_CRI=np.zeros([40,40])\n",
    "\n",
    "Output_CRI= sql^ \"\"\"\n",
    "                        SELECT Output\n",
    "                        FROM datos_relacion\n",
    "                        WHERE Country_iso3 LIKE 'CRI%'\n",
    "                    \"\"\"\n",
    "                    \n",
    "Output_CRI = Output_CRI.to_numpy()\n",
    "for fila in range (P_CRI.shape[0]):\n",
    "    if Output_CRI[fila]==0:\n",
    "        P_CRI[fila][fila]=1\n",
    "    else:\n",
    "        P_CRI[fila][fila]=Output_CRI[fila][0]"
   ]
  },
  {
   "cell_type": "code",
   "execution_count": 19,
   "id": "9535a28f",
   "metadata": {},
   "outputs": [],
   "source": [
    "#Tomamos las inversas\n",
    "P_INV_CRI=inversaLU(P_CRI)\n",
    "P_INV_VEN=inversaLU(P_VEN)\n",
    "\n",
    "# Ejercicio 7 Matrices Insumo-Producto\n",
    "A_VV= Z_VENVEN@P_INV_VEN\n",
    "\n",
    "A_VC = Z_VENCRI@P_INV_CRI\n",
    "\n",
    "A_CC= Z_CRICRI@P_INV_CRI\n",
    "\n",
    "A_CV = Z_CRIVEN@P_INV_VEN"
   ]
  },
  {
   "cell_type": "markdown",
   "id": "c8c3474d",
   "metadata": {},
   "source": [
    "Completamos la A del sistema completo"
   ]
  },
  {
   "cell_type": "code",
   "execution_count": 20,
   "id": "a3ad305c",
   "metadata": {},
   "outputs": [],
   "source": [
    "A_grande = np.zeros([80,80])\n",
    "\n",
    "for fila in range(80):\n",
    "    for columna in range(80):\n",
    "        if (fila < 40) and (columna < 40):\n",
    "            A_grande[fila][columna] = A_VV[fila][columna]\n",
    "        elif (fila < 40):\n",
    "            A_grande[fila][columna] = A_VC[fila][columna -40]\n",
    "        elif (fila >= 40) and (columna < 40):\n",
    "            A_grande[fila][columna] = A_CV[fila -40][columna]\n",
    "        else:\n",
    "            A_grande[fila][columna] = A_CC[fila -40][columna -40]"
   ]
  },
  {
   "cell_type": "markdown",
   "id": "7261416c",
   "metadata": {},
   "source": [
    "- Simular un shock negativo sobre el sector s05 del 10 % del total del sector, y un shock positivo del 3.3 % del total de cada uno de los siguientes sectores: s06, s07 y s08. Todos estos shocks se producen en el país P1"
   ]
  },
  {
   "cell_type": "markdown",
   "id": "dbf7cca3",
   "metadata": {},
   "source": [
    "Simulamos el shock para el modelo simple"
   ]
  },
  {
   "cell_type": "code",
   "execution_count": 22,
   "id": "5825447d",
   "metadata": {},
   "outputs": [],
   "source": [
    "I = np.eye(40)\n",
    "#Calculamos la demanda\n",
    "d_VEN_simple = (I- A_VV)@Output_VEN\n",
    "#Calulcamos el shock en la demanda\n",
    "d_VEN_shock_simple = d_VEN_simple.copy()\n",
    "\n",
    "d_VEN_shock_simple[4] = d_VEN_simple[4]*0.9\n",
    "d_VEN_shock_simple[5] = d_VEN_simple[5]*1.033\n",
    "d_VEN_shock_simple[6] = d_VEN_simple[6]*1.033\n",
    "d_VEN_shock_simple[7] = d_VEN_simple[7]*1.033\n",
    "\n",
    "\n",
    "#Calculo del delta\n",
    "delta_d_simple = d_VEN_shock_simple - d_VEN_simple\n",
    "#Calculamos la producción segun lo desarollado en ecuación 5\n",
    "delta_p_simple= inversaLU(I - A_VV) @ delta_d_simple\n",
    "\n",
    "p_prima_simple = Output_VEN + delta_p_simple"
   ]
  },
  {
   "cell_type": "markdown",
   "id": "0a08ae93",
   "metadata": {},
   "source": [
    "Simulamos el shock para el modelo completo"
   ]
  },
  {
   "cell_type": "code",
   "execution_count": 23,
   "id": "0f158dfb",
   "metadata": {},
   "outputs": [],
   "source": [
    "#%% Simulamos el shock para el modelo completo\n",
    "\n",
    "I = np.eye(40)\n",
    "#Calculamos la demanda de venezuela\n",
    "d_VEN_completo = (I- A_VV)@Output_VEN\n",
    "#Calculamos el shock\n",
    "d_VEN_shock_completo = d_VEN_completo.copy()\n",
    "\n",
    "d_VEN_shock_completo[4] = d_VEN_completo[4]*0.9\n",
    "d_VEN_shock_completo[5] = d_VEN_completo[5]*1.033\n",
    "d_VEN_shock_completo[6] = d_VEN_completo[6]*1.033\n",
    "d_VEN_shock_completo[7] = d_VEN_completo[7]*1.033\n",
    "\n",
    "#sacamos el delta\n",
    "delta_d_completo = d_VEN_shock_completo - d_VEN_completo\n",
    "#usamos lo deducido en la consigna 6 ya que la demanda Costa Rica no se modifica\n",
    "delta_p_completo = inversaLU(I- A_VV - (A_VC @ inversaLU(I - A_CC) @ A_CV)) @ delta_d_completo\n",
    "\n",
    "p_prima_completo = Output_VEN + delta_p_completo"
   ]
  },
  {
   "cell_type": "markdown",
   "id": "949d32ab",
   "metadata": {},
   "source": [
    "- Analizar cómo se modifica la producción cuando se considera el modelo de región simple\n",
    "(ecuación 5) y cuando se considera la fórmula completa de las 2 regiones (ecuación 6)."
   ]
  },
  {
   "cell_type": "markdown",
   "id": "5a6be8b0",
   "metadata": {},
   "source": [
    "Realizamos un grafico de barras comparando los resultados para el modelo simple"
   ]
  },
  {
   "cell_type": "code",
   "execution_count": 24,
   "id": "5c444e83",
   "metadata": {},
   "outputs": [
    {
     "data": {
      "image/png": "[encoded data removed]",
      "text/plain": [
       "<Figure size 1200x600 with 1 Axes>"
      ]
     },
     "metadata": {},
     "output_type": "display_data"
    }
   ],
   "source": [
    "x = np.arange(1, 41)\n",
    "\n",
    "# Definir el ancho de las barras\n",
    "width = 0.35\n",
    "\n",
    "# Crear el gráfico de barras\n",
    "fig, ax = plt.subplots(figsize=(12, 6))\n",
    "\n",
    "# Dibujar las barras del primer array\n",
    "bars1 = ax.bar(x - width/2, np.ravel(Output_VEN), width, label='Output_VEN')\n",
    "\n",
    "# Dibujar las barras del segundo array\n",
    "bars2 = ax.bar(x + width/2, np.ravel(p_prima_simple), width, label='p_prima_simple')\n",
    "\n",
    "ax.set_xlabel('Fila')\n",
    "ax.set_ylabel('Valores')\n",
    "ax.set_title('Comparación de Arrays')\n",
    "ax.set_xticks(x)\n",
    "ax.set_xticklabels([f'{i}' for i in x])\n",
    "\n",
    "# Añadir leyenda\n",
    "ax.legend()\n",
    "\n",
    "# Mostrar el gráfico\n",
    "plt.show()"
   ]
  },
  {
   "cell_type": "markdown",
   "id": "0f2c2a61",
   "metadata": {},
   "source": [
    "Realizamos un grafico de barras comparando los resultados para el modelo completo"
   ]
  },
  {
   "cell_type": "code",
   "execution_count": 25,
   "id": "a0fe9129",
   "metadata": {},
   "outputs": [
    {
     "data": {
      "image/png": "[encoded data removed]",
      "text/plain": [
       "<Figure size 1200x600 with 1 Axes>"
      ]
     },
     "metadata": {},
     "output_type": "display_data"
    }
   ],
   "source": [
    "x = np.arange(1, 41)\n",
    "\n",
    "# Definir el ancho de las barras\n",
    "width = 0.35\n",
    "\n",
    "# Crear el gráfico de barras\n",
    "fig, ax = plt.subplots(figsize =(12 , 6))\n",
    "\n",
    "# Dibujar las barras del primer array\n",
    "bars1 = ax.bar(x - width/2, np.ravel(Output_VEN), width, label='Output_VEN')\n",
    "\n",
    "# Dibujar las barras del segundo array\n",
    "bars2 = ax.bar(x + width/2, np.ravel(p_prima_completo), width, label='p_prima_completo')\n",
    "\n",
    "ax.set_xlabel('Fila')\n",
    "ax.set_ylabel('Valores')\n",
    "ax.set_title('Comparación de Arrays')\n",
    "ax.set_xticks(x)\n",
    "ax.set_xticklabels([f'{i}' for i in x])\n",
    "\n",
    "# Añadir leyenda\n",
    "ax.legend()\n",
    "\n",
    "# Mostrar el gráfico\n",
    "plt.show()\n"
   ]
  },
  {
   "cell_type": "markdown",
   "id": "5bed92fd",
   "metadata": {},
   "source": [
    "Y comparando ambas variaciones entre si "
   ]
  },
  {
   "cell_type": "code",
   "execution_count": 26,
   "id": "67cbc0ee",
   "metadata": {},
   "outputs": [
    {
     "data": {
      "image/png": "[encoded data removed]",
      "text/plain": [
       "<Figure size 1200x600 with 1 Axes>"
      ]
     },
     "metadata": {},
     "output_type": "display_data"
    }
   ],
   "source": [
    "x = np.arange(1, 41)\n",
    "\n",
    "# Definir el ancho de las barras\n",
    "width = 0.35\n",
    "\n",
    "# Crear el gráfico de barras\n",
    "fig, ax = plt.subplots(figsize=(12 ,6))\n",
    "\n",
    "# Dibujar las barras del primer array\n",
    "bars1 = ax.bar(x - width/2, np.ravel(p_prima_simple), width, label='p_prima_simple')\n",
    "\n",
    "# Dibujar las barras del segundo array\n",
    "bars2 = ax.bar(x + width/2, np.ravel(p_prima_completo), width, label='p_prima_completo')\n",
    "\n",
    "ax.set_xlabel('Fila')\n",
    "ax.set_ylabel('Valores')\n",
    "ax.set_title('Comparación de Arrays')\n",
    "ax.set_xticks(x)\n",
    "ax.set_xticklabels([f'{i}' for i in x])\n",
    "\n",
    "# Añadir leyenda\n",
    "ax.legend()\n",
    "\n",
    "# Mostrar el gráfico\n",
    "plt.show()"
   ]
  },
  {
   "cell_type": "markdown",
   "id": "23261659",
   "metadata": {},
   "source": [
    "Analisis:\n",
    "\n",
    "Observamos minimas variaciones dentro de cada modelo. Esto lo asociamos a que las modificaciones en los sectores son menores al 10%  y en 4 de los 40 sectores de la economía. Además cuando comparamos los resultados de producción de ambos sectores, notamos que son iguales. Esto podría deberse a que estos no son sectores representativos del comercio entre Venezuela y Costa Rica. Por lo tanto, una minima variación no significa ningun cambio apreciable en los gráficos."
   ]
  }
 ],
 "metadata": {
  "kernelspec": {
   "display_name": "Python 3 (ipykernel)",
   "language": "python",
   "name": "python3"
  },
  "language_info": {
   "codemirror_mode": {
    "name": "ipython",
    "version": 3
   },
   "file_extension": ".py",
   "mimetype": "text/x-python",
   "name": "python",
   "nbconvert_exporter": "python",
   "pygments_lexer": "ipython3",
   "version": "3.12.2"
  }
 },
 "nbformat": 4,
 "nbformat_minor": 5
}
