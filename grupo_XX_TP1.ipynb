{
 "cells": [
  {
   "attachments": {},
   "cell_type": "markdown",
   "id": "5c0cbb93-2880-4750-975d-11cce9f6b12c",
   "metadata": {},
   "source": [
    "# Trabajo Práctico 1 - Matrices de Insumo Producto\n",
    "\n",
    "## Enunciado"
   ]
  },
  {
   "cell_type": "markdown",
   "id": "11f7face-a325-4e30-b13e-0c3d84280c5e",
   "metadata": {},
   "source": [
    "### Consigna 1 - "
   ]
  },
  {
   "cell_type": "markdown",
   "id": "e69c407d-9132-421c-8d02-508da3bb3ae6",
   "metadata": {},
   "source": [
    "a) $(I − A)$ es inversible :\n",
    "\n",
    "Si la matriz (I-A) es inversible, el sistema $(I-A)^{-1}$ tiene una única solución. Esto, en términos de lo que el sistema representa, significa que existe una única producción $\\textbf{p}$ que satisface tanto la demanda interna como la externa.\n",
    "\n",
    "b) $(I − A)$  es inversible y $\\textbf{d}$ = 0 :\n",
    "\n",
    "Que $\\textbf{d}$ sea 0 significa que estamos hablando de una economía cerrada. Por lo tanto, toda la producción esta de destinada a satisfacer la demanda interna. Además, la matriz $\\\\$ $(I-A)$ es inversible, lo que implica que podemos encontrar la producción de equilibrio para afrontar la demanda interna.\n",
    "\n",
    "Teoria: No se produce nada para que no hay demanda externa y por ende la produccion es igual a 0\n",
    "\n",
    "c) $(I − A)$ no es inversible :\n",
    "\n",
    "Analizando unicamente el sistema 2, en este caso se deduce que no existe una solucion $\\textbf{p}$ que satisface tanto la demanda interna como la externa.\n",
    "\n",
    "Sin embargo, si vemos el sistema 1, podemos llegar a la ecuacion:\n",
    "\n",
    "$$\n",
    "(I - A) \\cdot p = d \\quad \\text{(1)}\n",
    "$$\n",
    "\n",
    "Luego, como suponemos que $(I − A)$ no es inversible obtenemos 2 posibles alternativas: que tenga infinitas soluciones o que no tenga solucion. Por lo que puede llegar a pasar que hayan infinitas producciones que satisfacen tanto la demanda externa como interna.\n",
    "\n",
    "d) $(I − A)$ no es inversible y $\\textbf{d}$ = 0 :"
   ]
  },
  {
   "cell_type": "markdown",
   "id": "6ea60699-4c07-40fb-8f71-ec4cacf32708",
   "metadata": {},
   "source": [
    "### Consigna 3 -  \n",
    "Resolver el sistema 2 utilizando inversaLU para los siguientes valores de $\\textbf{A}$ y $\\textbf{d}$:\n",
    "\n",
    "$$\n",
    "\\mathbf{A} = \n",
    "\\begin{pmatrix}\n",
    "0.3 & 0.0 & 0.1 \\\\\n",
    "0.05 & 1.0 & 0.2 \\\\\n",
    "0.1 & 0.15 & 0.1\n",
    "\\end{pmatrix},\n",
    "\\quad\n",
    "\\mathbf{d} =\n",
    "\\begin{pmatrix}\n",
    "100 \\\\\n",
    "100 \\\\\n",
    "300\n",
    "\\end{pmatrix}\n",
    "$$\n",
    "\n",
    "\n",
    "1) ¿Hay una justificación económica de los valores encontrados para $\\textbf{p}$?\n",
    "2) ¿Cual es la característica de la matriz que lleva a esta solución?"
   ]
  },
  {
   "cell_type": "code",
   "execution_count": 2,
   "id": "260b913f-d6d3-47b8-9431-7a64d6d037a5",
   "metadata": {},
   "outputs": [
    {
     "name": "stdout",
     "output_type": "stream",
     "text": [
      "[[  1.37931034  -0.68965517   0.        ]\n",
      " [ -2.98850575 -28.50574713  -6.66666667]\n",
      " [ -0.34482759  -4.82758621   0.        ]]\n"
     ]
    }
   ],
   "source": [
    "from funciones import inversaLU, calcularLU\n",
    "import numpy as np\n",
    "\n",
    "A = np.array([[0.3, 0.0, 0.1], [0.05, 1.0, 0.2], [0.1, 0.15, 0.1]])\n",
    "\n",
    "d = [[100], [100], [300]]\n",
    "\n",
    "I = np.eye(3)\n",
    "\n",
    "L = inversaLU(I-A)\n",
    "\n",
    "p = L@d\n",
    "\n",
    "print(L)"
   ]
  },
  {
   "cell_type": "markdown",
   "id": "9d40277f",
   "metadata": {},
   "source": [
    "1) Sí hay una justificación económica para este resultado. El producto 2 requiere en el segundo sector de la economía una unidad de si mismo para ser producido. Por un lado, esto indica que no es una economía viable ya que nunca se va a poder satisfacer la demanda de producto 2, debido a que se entra en un bucle infinito. Por lo tanto la producción de producto 2 nos da un valor de alrededor de 5000 en modulo porque es una demanda que no esta siendo satisfecha. Por otro lado, notemos que la demanda total de producto 2 es de 1.15 unidades sumando la demanda de los sectores 2 y 3, pero recordemos que la producción de producto 2 necesita una unidad de si mismo. Entonces si restamos la producción de producto 2 y su demanda obtenemos un resultado con signo negativo. Esto es indicador de que nunca vamos a poder producir lo necesario para satisfacer la demanda total para este producto. $\\\\$ En resumen, las desviaciones observadas en los sectores 2 y 3 son producto de demandar en cantidades que no pueden ser satisfechas al producto 2. Esto derivó en una economía inviable. Los altos valores en modulo indican la necesidad producir más para intentar satisfacer su demanda de producto 2 y el simbolo menos nos indica que a pesar de producir lo máximo nunca se llego a satisfacer esa demanda.\n",
    "\n",
    "2)  Para calcular el determinante de una matriz 3×3, se puede usar la siguiente fórmula general: $\\\\$ Para una matriz de la forma:\n",
    "    $$\n",
    "    \\mathbf{A} = \n",
    "    \\begin{pmatrix}\n",
    "    a & b & c \\\\\n",
    "    d & e & f \\\\\n",
    "    g & h & i\n",
    "    \\end{pmatrix}\n",
    "    $$\n",
    "\n",
    "    El determinante se calcula como: det=a(ei−fh)−b(di−fg)+c(dh−eg)\n",
    "\n",
    "    En este caso. la matriz es:\n",
    "    $$\n",
    "    \\mathbf{A} = \n",
    "    \\begin{pmatrix}\n",
    "    1.37931034 & -0.68965517 & 0 \\\\\n",
    "    -2.98850575 & -28.50574713 & -6.66666667 \\\\\n",
    "    -0.34482759 & -4.82758621 & 0\n",
    "    \\end{pmatrix}\n",
    "    $$\n",
    "\n",
    "    Sustituyendo la fórmula: $\\\\$\n",
    "    det= 1.37931034⋅(−32.1848725)−((−0.68965517)⋅(−2.2955691)) = −46.0115\n"
   ]
  },
  {
   "cell_type": "markdown",
   "metadata": {},
   "source": [
    "### Consigna 4 -  \n",
    "Analizar analíticamente qué sucede con la producción total cuando a partir de una demanda externa $\\textbf{d}$, la demanda externa para el producto 3 cambia en un $\\textbf{∆d}$. $\\\\$ La demanda externa se convierte en:\n",
    "    $$\n",
    "    \\mathbf{d'} = \\mathbf{d}+\n",
    "    \\begin{pmatrix}\n",
    "    0 \\\\\n",
    "    0 \\\\\n",
    "    1\n",
    "    \\end{pmatrix}\n",
    "    $$"
   ]
  },
  {
   "cell_type": "markdown",
   "id": "e0708210",
   "metadata": {},
   "source": [
    "Conocemos la economía con $\\textbf{d}$, que esta modelada por:\n",
    "$$\\mathbf{p}= \\mathbf{Ld}$$\n",
    "Ahora calculemos la economía con $\\textbf{d'}$\n",
    "\n",
    "$$\\mathbf{p'} = \\mathbf{Ld'} = \\mathbf{L(d+∆d)}$$\n",
    "\n",
    "$$\\mathbf{p + ∆p} = \\mathbf{Ld} + \\mathbf{L∆d}$$\n",
    "\n",
    "Sabiendo que $\\textbf{p = Ld}$ cancelamos y obtenemos que:\n",
    "\n",
    "$$\\mathbf{∆p} = \\mathbf{L∆d} \\\\$$\n",
    "Reemplazando :\n",
    "$$\n",
    "\\mathbf{∆d} = \\begin{pmatrix}\n",
    "    0 \\\\\n",
    "    0 \\\\\n",
    "    1\n",
    "    \\end{pmatrix}\n",
    "$$\n",
    "\n",
    "y obtenemos\n",
    "\n",
    "$$\\mathbf{∆p} = \\mathbf{L} \\begin{pmatrix}\n",
    "    0 \\\\\n",
    "    0 \\\\\n",
    "    1\n",
    "    \\end{pmatrix}\\\\$$\n",
    "\n",
    "Lo cual implica un aumento en la demanda del producto 3.\n"
   ]
  },
  {
   "cell_type": "markdown",
   "id": "086205ef",
   "metadata": {},
   "source": [
    "### Consigna 5 -\n",
    "Encontrar los coeficientes tecnicos $\\textbf{A}$ y la matriz de Leontief para la siguiente economía.\n",
    "<div style=\"display: flex; justify-content: center;\">\n",
    "  <table style = \"text-align:center\">\n",
    "    <tr>\n",
    "      <th colspan=\"4\">Demanda Interna</th>\n",
    "      <th>Total Producido</th>\n",
    "    </tr>\n",
    "    <tr>\n",
    "      <th></th>\n",
    "      <th>S1</th>\n",
    "      <th>S2</th>\n",
    "      <th>S3</th>\n",
    "      <th></th>\n",
    "    </tr>\n",
    "    <tr>\n",
    "      <td>S1</td>\n",
    "      <td>350</td>\n",
    "      <td>0</td>\n",
    "      <td>0</td>\n",
    "      <td>1000</td>\n",
    "    </tr>\n",
    "    <tr>\n",
    "      <td>S2</td>\n",
    "      <td>50</td>\n",
    "      <td>250</td>\n",
    "      <td>150</td>\n",
    "      <td>500</td>\n",
    "    </tr>\n",
    "    <tr>\n",
    "      <td>S3</td>\n",
    "      <td>200</td>\n",
    "      <td>150</td>\n",
    "      <td>550</td>\n",
    "      <td>1000</td>\n",
    "    </tr>\n",
    "  </table>\n",
    "</div>\n"
   ]
  },
  {
   "cell_type": "markdown",
   "id": "dc91abb2",
   "metadata": {},
   "source": [
    "- $Z_{11}$ = 350 $\\land$ $p_{1}$ = 1000 $\\implies$ $A_{11}$ = 0.35\n",
    "- $Z_{12}$ = 0 $\\land$ $Z_{13}$ = 0 $\\implies$ $A_{12}$ = 0 $\\land$ $A_{13}$ = 0\n",
    "- $Z_{21}$ = 50 $\\land$ $p_{2}$ = 500 $\\implies$ $A_{21}$ = 0.1\n",
    "- $Z_{22}$ = 250 $\\land$ $p_{2}$ = 500 $\\implies$ $A_{21}$ = 0.5\n",
    "- $Z_{23}$ = 150 $\\land$ $p_{2}$ = 500 $\\implies$ $A_{21}$ = 0.3\n",
    "- $Z_{31}$ = 200 $\\land$ $p_{3}$ = 1000 $\\implies$ $A_{31}$ = 0.2\n",
    "- $Z_{32}$ = 150 $\\land$ $p_{3}$ = 1000 $\\implies$ $A_{32}$ = 0.15\n",
    "- $Z_{33}$ = 550 $\\land$ $p_{3}$ = 1000 $\\implies$ $A_{31}$ = 0.55\n",
    "\n",
    "Luego,\n",
    "\n",
    "$$\n",
    "    \\mathbf{A} = \n",
    "    \\begin{pmatrix}\n",
    "    0.35 & 0 & 0 \\\\\n",
    "    0.1 & 0.5 & 0.3 \\\\\n",
    "    0.2 & 0.15 & 0.55\n",
    "    \\end{pmatrix}\n",
    "$$"
   ]
  },
  {
   "cell_type": "code",
   "execution_count": 4,
   "id": "d7bc51cb",
   "metadata": {},
   "outputs": [
    {
     "name": "stdout",
     "output_type": "stream",
     "text": [
      "[[1.53846154 0.         0.        ]\n",
      " [0.8974359  2.5        1.66666667]\n",
      " [0.98290598 0.83333333 2.77777778]]\n"
     ]
    }
   ],
   "source": [
    "A = np.array([[0.35, 0.0, 0.0], [0.1, 0.5, 0.3], [0.2, 0.15, 0.55]])\n",
    "\n",
    "I = np.eye(3)\n",
    "\n",
    "L = inversaLU(I-A)\n",
    "\n",
    "print(L)"
   ]
  },
  {
   "cell_type": "markdown",
   "id": "d84bf682",
   "metadata": {},
   "source": [
    "Entonces, la matriz de Leontief queda de la siguiente manera:\n",
    "$$\n",
    "    \\mathbf{L} = (I-A)^{-1} = \n",
    "    \\begin{pmatrix}\n",
    "    1.53846154 & 0 & 0 \\\\\n",
    "    0.8974359 & 2.5 & 1.66666667 \\\\\n",
    "    0.98290598 & 0.83333333 & 2.77777778\n",
    "    \\end{pmatrix}\n",
    "$$\n"
   ]
  },
  {
   "cell_type": "markdown",
   "id": "dc56d47e",
   "metadata": {},
   "source": [
    "### Consigna 6 -\n",
    "A partir de la fórmula 4, deducir cómo se calcula la variación de la producción en la región $\\textit{r} $ para cubrir una variación de la demanda considerando las relaciones interregionales. $\\\\$ Fijando por simplicidad $\\mathbf{∆d^{s}}$ = 0, deducir la siguiente fórmula:\n",
    "$$\n",
    "\\mathbf{∆p^{r}} = (I - \\mathbf{A^{rr}} - \\mathbf{A^{rs}}(I - \\mathbf{A^{ss}})^{-1}\\mathbf{A^{sr}})^{-1}\\mathbf{∆d^{r}}\n",
    "$$"
   ]
  },
  {
   "cell_type": "markdown",
   "id": "dab5fe5e",
   "metadata": {},
   "source": [
    "En primer lugar, queremos obtener los valores originales de $\\mathbf{p^{r}}$ y $\\mathbf{p^{s}}$ en funcion de $\\mathbf{d^{r}}$ y $\\mathbf{p^{s}}$. $\\\\$ \n",
    "Luego, analizamos que ocurre con $\\mathbf{p^{r'}}$ = $\\mathbf{p^{r}}$ + $\\mathbf{∆p^{r}}$ para $\\mathbf{d^{r'}}$ = $\\mathbf{d^{r}}$ + $\\mathbf{∆d^{r}}$\n",
    "\n",
    "\n",
    "$$\n",
    "    \\begin{pmatrix}  \n",
    "    \\begin{pmatrix}\n",
    "    I & 0 \\\\\n",
    "    0 & I \\\\\n",
    "    \\end{pmatrix} - \n",
    "    \\begin{pmatrix}\n",
    "    \\mathbf{A^{rr}} & \\mathbf{A^{rs}} \\\\\n",
    "    \\mathbf{A^{sr}} & \\mathbf{A^{ss}} \\\\\n",
    "    \\end{pmatrix} \n",
    "    \\end{pmatrix} \\cdot\n",
    "    \\begin{pmatrix}\n",
    "    \\mathbf{p^{r}}\\\\\n",
    "    \\mathbf{p^{s}} \\\\\n",
    "    \\end{pmatrix} \n",
    "    = \n",
    "    \\begin{pmatrix}\n",
    "    \\mathbf{d^{r}}\\\\\n",
    "    \\mathbf{d^{s}} \\\\\n",
    "    \\end{pmatrix} \n",
    "$$\n",
    "\n",
    "Luego,\n",
    "- ($\\textbf{I}$- $\\mathbf{A^{rr}}$)$\\mathbf{p^{r}}$ - $\\mathbf{A^{rs}}$ $\\mathbf{p^{s}}$ = $\\mathbf{d^{r}}$\n",
    "- (-$\\mathbf{A^{sr}}$ $\\mathbf{p^{r}}$) + ($\\textbf{I}$-$\\mathbf{A^{ss}}$)$\\mathbf{p^{s}}$ = $\\mathbf{d^{s}}$\n",
    "\n",
    "$\\implies$ $\\mathbf{p^{s}}$ = $(\\textbf{I} -\\mathbf{A^{ss}})^{-1}$($\\mathbf{d^{s}}$ + $\\mathbf{A^{sr}}$ $\\mathbf{p^{r}}$)  $\\\\$ \n",
    "$\\implies$ $\\mathbf{d^{r}}$ = ($\\textbf{I}$- $\\mathbf{A^{rr}}$)$\\mathbf{p^{r}}$  $\\mathbf{-A^{rs}}$ $(\\textbf{I} -\\mathbf{A^{ss}})^{-1}$($\\mathbf{d^{s}}$ + $\\mathbf{A^{sr}}$ $\\mathbf{p^{r}}$) $\\quad$ $\\textbf{(1)}$\n",
    "\n",
    "Luego con $\\textbf{∆d}$ $\\\\$ \n",
    "($\\textbf{I}$- $\\mathbf{A^{rr}}$)($\\mathbf{p^{r}}$ + $\\mathbf{∆p^{r}}$) - $\\mathbf{A^{rs}}$ $\\mathbf{p^{s}}$ = $\\mathbf{d^{r}}$ + $\\mathbf{∆d^{r}}$ $\\\\$ \n",
    "-$\\mathbf{A^{sr}}$($\\mathbf{p^{r}}$ + $\\mathbf{∆p^{r}}$) + ($\\textbf{I}$-$\\mathbf{A^{ss}}$)$\\mathbf{p^{s}}$ = $\\mathbf{d^{s}}$ $\\implies$\n",
    "$\\mathbf{p^{s}}$  = $(\\textbf{I} -\\mathbf{A^{ss}})^{-1}$($\\mathbf{d^{s}}$ + $\\mathbf{A^{sr}}$ $\\mathbf{p^{r}}$ + $\\mathbf{A^{sr}}$ $\\mathbf{∆p^{r}}$)\n",
    "\n",
    "($\\textbf{I}$- $\\mathbf{A^{rr}}$)($\\mathbf{p^{r}}$ + $\\mathbf{∆p^{r}}$)$\\mathbf{-A^{rs}}$ $(\\textbf{I} -\\mathbf{A^{ss}})^{-1}$($\\mathbf{d^{s}}$ + $\\mathbf{A^{sr}}$ $\\mathbf{p^{r}}$ + $\\mathbf{A^{sr}}$ $\\mathbf{∆p^{r}}$) = $\\mathbf{d^{r}}$ + $\\mathbf{∆d^{r}}$ $\\\\$ \n",
    "\n",
    "($\\textbf{I}$- $\\mathbf{A^{rr}}$)$\\mathbf{p^{r}}$ + ($\\textbf{I}$- $\\mathbf{A^{rr}}$)$\\mathbf{∆p^{r}}$ $\\mathbf{-A^{rs}}$ $(\\textbf{I} -\\mathbf{A^{ss}})^{-1}$ $\\mathbf{d^{s}}$ $\\mathbf{-A^{rs}}$ $(\\textbf{I} -\\mathbf{A^{ss}})^{-1}$ $\\mathbf{A^{sr}}$ $\\mathbf{p^{r}}$ $\\mathbf{-A^{rs}}$ $(\\textbf{I} -\\mathbf{A^{ss}})^{-1}$ $\\mathbf{A^{sr}}$ $\\mathbf{∆p^{r}}$ = $\\mathbf{d^{r}}$ + $\\mathbf{∆d^{r}}$ $\\\\$ \n",
    "\n",
    "Por $\\textbf{(1)}$, $\\mathbf{d^{r}}$ = ($\\textbf{I}$- $\\mathbf{A^{rr}}$)$\\mathbf{p^{r}}$ $\\mathbf{-A^{rs}}$ $(\\textbf{I} -\\mathbf{A^{ss}})^{-1}$ $\\mathbf{d^{s}}$ $\\mathbf{-A^{rs}}$ $(\\textbf{I} -\\mathbf{A^{ss}})^{-1}$ $\\mathbf{A^{sr}}$ $\\mathbf{p^{r}}$\n",
    "\n",
    "$\\implies$ $\\mathbf{∆d^{r}}$ = ($\\textbf{I}$- $\\mathbf{A^{rr}}$)$\\mathbf{∆p^{r}}$ $\\mathbf{-A^{rs}}$ $(\\textbf{I} -\\mathbf{A^{ss}})^{-1}$ $\\mathbf{A^{sr}}$ $\\mathbf{∆p^{r}}$ $\\\\$ \n",
    "$\\implies$ $\\mathbf{∆d^{r}}$ =  ($\\textbf{I}$- $\\mathbf{A^{rr}}$ $\\mathbf{-A^{rs}}$ $(\\textbf{I} -\\mathbf{A^{ss}})^{-1}$ $\\mathbf{A^{sr}}$)$\\mathbf{∆p^{r}}$ $\\\\$ \n",
    "$\\implies$ $\\mathbf{∆p^{r}}$ = $(\\textbf{I}- \\mathbf{A^{rr}} \\mathbf{-A^{rs}} (\\textbf{I} -\\mathbf{A^{ss}})^{-1} \\mathbf{A^{sr}})^{-1}$ $\\mathbf{∆d^{r}}$"
   ]
  }
 ],
 "metadata": {
  "kernelspec": {
   "display_name": "Python 3 (ipykernel)",
   "language": "python",
   "name": "python3"
  },
  "language_info": {
   "codemirror_mode": {
    "name": "ipython",
    "version": 3
   },
   "file_extension": ".py",
   "mimetype": "text/x-python",
   "name": "python",
   "nbconvert_exporter": "python",
   "pygments_lexer": "ipython3",
   "version": "3.10.1"
  }
 },
 "nbformat": 4,
 "nbformat_minor": 5
}
